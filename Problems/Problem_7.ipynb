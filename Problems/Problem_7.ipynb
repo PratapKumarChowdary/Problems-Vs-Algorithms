{
 "cells": [
  {
   "cell_type": "markdown",
   "metadata": {},
   "source": [
    "# Problem 7 - HTTPRouter using a Trie"
   ]
  },
  {
   "cell_type": "code",
   "execution_count": 278,
   "metadata": {},
   "outputs": [],
   "source": [
    "# The Router class will wrap the Trie and handle \n",
    "class Router:\n",
    "    def __init__(self, root_handler):\n",
    "        # Create a new RouteTrie for holding our routes\n",
    "        # You could also add a handler for 404 page not found responses as well!\n",
    "        self.route = RouteTrie(root_handler)\n",
    "\n",
    "    def add_handler(self, path, handler):\n",
    "        # Add a handler for a path\n",
    "        # You will need to split the path and pass the pass parts\n",
    "        # as a list to the RouteTrie\n",
    "        parts_of_path = self.split_path(path)\n",
    "        return self.route.insert(parts_of_path, handler)\n",
    "        \n",
    "\n",
    "    def lookup(self, path):\n",
    "        # lookup path (by parts) and return the associated handler\n",
    "        # you can return None if it's not found or\n",
    "        # return the \"not found\" handler if you added one\n",
    "        # bonus points if a path works with and without a trailing slash\n",
    "        # e.g. /about and /about/ both return the /about handler\n",
    "        parts_of_path = self.split_path(path)\n",
    "        \n",
    "        handler = self.route.find(parts_of_path)\n",
    "        \n",
    "        if handler:\n",
    "            return self.route.find(parts_of_path)\n",
    "        else:\n",
    "            return \"not found handler\"\n",
    "\n",
    "\n",
    "    def split_path(self, path):\n",
    "        # you need to split the path into parts for \n",
    "        # both the add_handler and loopup functions,\n",
    "        # so it should be placed in a function here\n",
    "        split = path.split('/')\n",
    "        \n",
    "        # If path is the root path than it returns ['/'] without any splitting\n",
    "        if len(split) == 1 and split[0] == '/':\n",
    "            return [\"\"]\n",
    "    \n",
    "        # If path is not the root node than \n",
    "        # split the path by using '/' as separator\n",
    "        # and remove the empty strings from the splitted list\n",
    "        # by removing the empty strings we can handle trailing slashes\n",
    "        parts_of_path = list()\n",
    "    \n",
    "        for i in split:\n",
    "            if not i == \"\":\n",
    "                parts_of_path.append(i)\n",
    "                \n",
    "        return parts_of_path"
   ]
  },
  {
   "cell_type": "code",
   "execution_count": 279,
   "metadata": {},
   "outputs": [],
   "source": [
    "# A RouteTrie will store our routes and their associated handlers\n",
    "class RouteTrie:\n",
    "    def __init__(self, root_handler):\n",
    "        # Initialize the trie with an root node and a handler, this is the root path or home page node\n",
    "        self.root = RouteTrieNode(root_handler)\n",
    "\n",
    "    def insert(self, parts_of_path, handler):\n",
    "        # Similar to our previous example you will want to recursively add nodes\n",
    "        # Make sure you assign the handler to only the leaf (deepest) node of this path\n",
    "        \n",
    "        current_node = self.root\n",
    "    \n",
    "        for part in parts_of_path:\n",
    "            if part not in current_node.children:\n",
    "                current_node.insert(part)\n",
    "            current_node = current_node.children[part]\n",
    "        current_node.handler = handler\n",
    "\n",
    "    def find(self, parts_of_path):\n",
    "        # Starting at the root, navigate the Trie to find a match for this path\n",
    "        # Return the handler for a match, or None for no match\n",
    "        current_node = self.root\n",
    "        \n",
    "        for part in parts_of_path:\n",
    "            if part not in current_node.children:\n",
    "                return None\n",
    "            current_node = current_node.children[part]\n",
    "        return current_node.handler\n",
    "\n",
    "# A RouteTrieNode will be similar to our autocomplete TrieNode... with one additional element, a handler.\n",
    "class RouteTrieNode:\n",
    "    def __init__(self, handler):\n",
    "        # Initialize the node with children as before, plus a handler\n",
    "        self.children = {}\n",
    "        self.handler = handler\n",
    "\n",
    "    def insert(self, path):\n",
    "        # Insert the node as before\n",
    "        self.children[path] = RouteTrieNode(None)"
   ]
  },
  {
   "cell_type": "markdown",
   "metadata": {},
   "source": [
    "# Test Cases"
   ]
  },
  {
   "cell_type": "code",
   "execution_count": 280,
   "metadata": {},
   "outputs": [
    {
     "name": "stdout",
     "output_type": "stream",
     "text": [
      "Path: / ---------- Handler: root handler\n",
      "Path: /home ---------- Handler: not found handler\n",
      "Path: /home/about ---------- Handler: about handler\n",
      "Path: /home/about/ ---------- Handler: about handler\n",
      "Path: /home/about/me ---------- Handler: about me handler\n"
     ]
    }
   ],
   "source": [
    "# Here are some test cases and expected outputs you can use to test your implementation\n",
    "\n",
    "# create the router and add a route\n",
    "router = Router(\"root handler\") # remove the 'not found handler' if you did not implement this\n",
    "router.add_handler(\"/home/about\", \"about handler\")  # add a route\n",
    "router.add_handler(\"/home/about/me\", \"about me handler\")\n",
    "\n",
    "# some lookups with the expected output\n",
    "print(\"Path: / \" + \"-\"*10 + \" Handler: \" + router.lookup(\"/\")) # should print 'root handler'\n",
    "print(\"Path: /home \" +  \"-\"*10 + \" Handler: \" + router.lookup(\"/home\")) # should print 'not found handler' or None if you did not implement one\n",
    "print(\"Path: /home/about \" + \"-\"*10 + \" Handler: \" + router.lookup(\"/home/about\")) # should print 'about handler'\n",
    "print(\"Path: /home/about/ \" + \"-\"*10 + \" Handler: \" + router.lookup(\"/home/about/\")) # should print 'about handler' or None if you did not handle trailing slashes\n",
    "print(\"Path: /home/about/me \" + \"-\"*10 + \" Handler: \" + router.lookup(\"/home/about/me\")) # should print 'about me handler'"
   ]
  },
  {
   "cell_type": "markdown",
   "metadata": {},
   "source": [
    "# Edge Test Cases"
   ]
  },
  {
   "cell_type": "code",
   "execution_count": 281,
   "metadata": {},
   "outputs": [
    {
     "name": "stdout",
     "output_type": "stream",
     "text": [
      "Path: / ---------- Handler: root handler\n",
      "Path: a ---------- Handler: a handler\n",
      "\n",
      "Path: a/b ---------- Handler: a/b handler\n"
     ]
    }
   ],
   "source": [
    "# without '/' in starting of path\n",
    "router.add_handler(\"a\",\"a handler\")\n",
    "print(\"Path: / \" + \"-\"*10 + \" Handler: \" + router.lookup(\"\"))\n",
    "print(\"Path: a \" + \"-\"*10 + \" Handler: \" + router.lookup(\"a\"))\n",
    "print()\n",
    "router.add_handler(\"a/b\",\"a/b handler\")\n",
    "print(\"Path: a/b \" + \"-\"*10 + \" Handler: \" + router.lookup(\"a/b\"))"
   ]
  },
  {
   "cell_type": "code",
   "execution_count": 282,
   "metadata": {},
   "outputs": [
    {
     "name": "stdout",
     "output_type": "stream",
     "text": [
      "Path: / ---------- Handler: new root handler\n",
      "Path: /home ---------- Handler: not found handler\n",
      "Path: /home/about ---------- Handler: about handler\n",
      "Path: /home/about/ ---------- Handler: about handler\n",
      "Path: /home/about/me ---------- Handler: about me handler\n"
     ]
    }
   ],
   "source": [
    "# Change the root handler\n",
    "router.add_handler(\"\",\"new root handler\")\n",
    "print(\"Path: / \" + \"-\"*10 + \" Handler: \" + router.lookup(\"/\")) # should print 'root handler'\n",
    "print(\"Path: /home \" +  \"-\"*10 + \" Handler: \" + router.lookup(\"/home\")) # should print 'not found handler' or None if you did not implement one\n",
    "print(\"Path: /home/about \" + \"-\"*10 + \" Handler: \" + router.lookup(\"/home/about\")) # should print 'about handler'\n",
    "print(\"Path: /home/about/ \" + \"-\"*10 + \" Handler: \" + router.lookup(\"/home/about/\")) # should print 'about handler' or None if you did not handle trailing slashes\n",
    "print(\"Path: /home/about/me \" + \"-\"*10 + \" Handler: \" + router.lookup(\"/home/about/me\")) # should print 'about me handler'"
   ]
  },
  {
   "cell_type": "code",
   "execution_count": 283,
   "metadata": {},
   "outputs": [
    {
     "name": "stdout",
     "output_type": "stream",
     "text": [
      "Path: / ---------- Handler: not found handler\n",
      "\n",
      "Path: / ---------- Handler: brand new root handler\n",
      "Path: '' ---------- Handler: brand new root handler\n"
     ]
    }
   ],
   "source": [
    "# Adding Empty handler\n",
    "router.add_handler(\"/\",\"\")\n",
    "print(\"Path: / \" + \"-\"*10 + \" Handler: \" + router.lookup(\"/\")) # should print 'not found handler'\n",
    "\n",
    "print()\n",
    "# Requests for root - '' or '/' \n",
    "router.add_handler(\"/\", \"brand new root handler\")\n",
    "print(\"Path: / \" + \"-\"*10 + \" Handler: \" + router.lookup(\"/\")) # should print 'root handler'\n",
    "print(\"Path: '' \" + \"-\"*10 + \" Handler: \" + router.lookup(\"\")) # should print 'root handler'"
   ]
  },
  {
   "cell_type": "code",
   "execution_count": 284,
   "metadata": {},
   "outputs": [
    {
     "name": "stdout",
     "output_type": "stream",
     "text": [
      "A/B/C/D/E/F/G/H/I/J/K/L/M/N/O/P/Q/R/S/T/U/V/W/X/Y/Z/a/b/c/d/e/f/g/h/i/j/k/l/m/n/o/p/q/r/s/t/u/v/w/x/y/z\n",
      "Path: / ---------- Handler: brand new root handler\n",
      "Path: /home ---------- Handler: not found handler\n",
      "Path: /home/about ---------- Handler: about handler\n",
      "Path: /home/about/ ---------- Handler: about handler\n",
      "Path: /home/about/me ---------- Handler: about me handler\n",
      "Path: A/B/C/D/E/F/G/H/I/J/K/L/M/N/O/P/Q/R/S/T/U/V/W/X/Y/Z/a/b/c/d/e/f/g/h/i/j/k/l/m/n/o/p/q/r/s/t/u/v/w/x/y/z -------------------- Handler: alphabets handler\n"
     ]
    }
   ],
   "source": [
    "# Large Path Input\n",
    "capital_letters = [chr(x) for x in range(65, 91)]\n",
    "small_letters = [chr(x) for x in range(97, 123)]\n",
    "alphabets = capital_letters + small_letters\n",
    "\n",
    "path = \"/\".join(alphabets)\n",
    "print(path)\n",
    "\n",
    "router.add_handler(path, \"alphabets handler\")\n",
    "\n",
    "print(\"Path: / \" + \"-\"*10 + \" Handler: \" + router.lookup(\"/\"))\n",
    "print(\"Path: /home \" + \"-\"*10 + \" Handler: \" + router.lookup(\"/home\")) # should print 'not found handler' or None if you did not implement one\n",
    "print(\"Path: /home/about \" + \"-\"*10 + \" Handler: \" + router.lookup(\"/home/about\")) # should print 'about handler'\n",
    "print(\"Path: /home/about/ \" + \"-\"*10 + \" Handler: \" + router.lookup(\"/home/about/\")) # should print 'about handler' or None if you did not handle trailing slashes\n",
    "print(\"Path: /home/about/me \" + \"-\"*10 + \" Handler: \" + router.lookup(\"/home/about/me\")) # should print 'about me handler'\n",
    "print(f\"Path: {path} \" + \"-\"*20 + \" Handler: \" + router.lookup(path))"
   ]
  }
 ],
 "metadata": {
  "kernelspec": {
   "display_name": "Python 3",
   "language": "python",
   "name": "python3"
  },
  "language_info": {
   "codemirror_mode": {
    "name": "ipython",
    "version": 3
   },
   "file_extension": ".py",
   "mimetype": "text/x-python",
   "name": "python",
   "nbconvert_exporter": "python",
   "pygments_lexer": "ipython3",
   "version": "3.6.3"
  }
 },
 "nbformat": 4,
 "nbformat_minor": 2
}
