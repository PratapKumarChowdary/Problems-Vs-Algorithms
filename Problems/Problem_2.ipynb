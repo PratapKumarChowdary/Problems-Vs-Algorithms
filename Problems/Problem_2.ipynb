{
 "cells": [
  {
   "cell_type": "markdown",
   "metadata": {},
   "source": [
    "# Problem 2 - Search in a Rotated Sorted Array"
   ]
  },
  {
   "cell_type": "code",
   "execution_count": 102,
   "metadata": {},
   "outputs": [],
   "source": [
    "def rotated_array_search(input_list, number):\n",
    "    \"\"\"\n",
    "    Find the index by searching in a rotated sorted array\n",
    "\n",
    "    Args:\n",
    "       input_list(array), number(int): Input array to search and the target\n",
    "    Returns:\n",
    "       int: Index or -1\n",
    "    \"\"\"\n",
    "    \n",
    "    if not input_list or not number:\n",
    "        return -1\n",
    "        \n",
    "    return binary_search(input_list, number, 0, len(input_list)-1)\n",
    "    \n",
    "def binary_search(arr, target, start_index, end_index):\n",
    "    \n",
    "    # Base Case\n",
    "    if start_index > end_index:\n",
    "        return -1\n",
    "    \n",
    "    mid_index = (start_index + end_index) // 2\n",
    "    \n",
    "    if arr[mid_index] == target:    # If the target found returns the index\n",
    "        return mid_index\n",
    "    \n",
    "    # Checks whether the first half of arr is sorted\n",
    "    if arr[start_index] <= arr[mid_index]:    \n",
    "        \n",
    "        # If the target is in between the first half, the target will be searched init\n",
    "        if arr[start_index] <= target <= arr[mid_index]:    \n",
    "            return binary_search(arr, target, start_index, mid_index)\n",
    "        else:    # Else it will search the target in the other half\n",
    "            return binary_search(arr, target, mid_index + 1, end_index)\n",
    "    \n",
    "    # If the first half is not sorted it will search target in the second half\n",
    "    elif arr[mid_index] < target < arr[end_index]:  \n",
    "        return binary_search(arr, target, mid_index + 1, end_index)\n",
    "        \n",
    "    # If target is not in the second half it will search the target in the first half\n",
    "    return binary_search(arr, target, start_index, mid_index - 1)\n",
    "   "
   ]
  },
  {
   "cell_type": "markdown",
   "metadata": {},
   "source": [
    "# Test Cases"
   ]
  },
  {
   "cell_type": "code",
   "execution_count": 103,
   "metadata": {},
   "outputs": [
    {
     "name": "stdout",
     "output_type": "stream",
     "text": [
      "Pass\n",
      "Pass\n",
      "Pass\n",
      "Pass\n",
      "Pass\n",
      "Pass\n"
     ]
    }
   ],
   "source": [
    "def linear_search(input_list, number):\n",
    "    if not input_list:\n",
    "        return -1\n",
    "    for index, element in enumerate(input_list):\n",
    "        if element == number:\n",
    "            return index\n",
    "    return -1\n",
    "\n",
    "def test_function(test_case):\n",
    "    input_list = test_case[0]\n",
    "    number = test_case[1]\n",
    "    if linear_search(input_list, number) == rotated_array_search(input_list, number):\n",
    "        print(\"Pass\")\n",
    "    else:\n",
    "        print(\"Fail\")\n",
    "\n",
    "test_function([[6, 7, 8, 9, 10, 1, 2, 3, 4], 6])\n",
    "test_function([[6, 7, 8, 9, 10, 1, 2, 3, 4], 1])\n",
    "test_function([[6, 7, 8, 1, 2, 3, 4], 8])\n",
    "test_function([[6, 7, 8, 1, 2, 3, 4], 1])\n",
    "test_function([[6, 7, 8, 1, 2, 3, 4], 10])\n",
    "test_function([[5,1,2,3,4], 1])"
   ]
  },
  {
   "cell_type": "markdown",
   "metadata": {},
   "source": [
    "# Edge Test Cases"
   ]
  },
  {
   "cell_type": "code",
   "execution_count": 104,
   "metadata": {},
   "outputs": [
    {
     "name": "stdout",
     "output_type": "stream",
     "text": [
      "Pass\n"
     ]
    }
   ],
   "source": [
    "# Empty Input\n",
    "test_function([[], 6])"
   ]
  },
  {
   "cell_type": "code",
   "execution_count": 105,
   "metadata": {},
   "outputs": [
    {
     "name": "stdout",
     "output_type": "stream",
     "text": [
      "Pass\n",
      "Pass\n"
     ]
    }
   ],
   "source": [
    "# Large Input\n",
    "first_half = [x for x in range(2000, 5000)]\n",
    "second_half = [y for y in range(0, 2000)]\n",
    "rotated_arr = first_half + second_half\n",
    "\n",
    "# Target in range\n",
    "test_function([rotated_arr, 2555])\n",
    "\n",
    "# Target out of range\n",
    "test_function([rotated_arr, 50000])"
   ]
  },
  {
   "cell_type": "code",
   "execution_count": 106,
   "metadata": {},
   "outputs": [
    {
     "name": "stdout",
     "output_type": "stream",
     "text": [
      "Pass\n",
      "Pass\n",
      "Pass\n"
     ]
    }
   ],
   "source": [
    "# Null Input\n",
    "test_function([[], None])\n",
    "test_function([None, 3])\n",
    "test_function([None, None])"
   ]
  }
 ],
 "metadata": {
  "kernelspec": {
   "display_name": "Python 3",
   "language": "python",
   "name": "python3"
  },
  "language_info": {
   "codemirror_mode": {
    "name": "ipython",
    "version": 3
   },
   "file_extension": ".py",
   "mimetype": "text/x-python",
   "name": "python",
   "nbconvert_exporter": "python",
   "pygments_lexer": "ipython3",
   "version": "3.7.6"
  }
 },
 "nbformat": 4,
 "nbformat_minor": 2
}
