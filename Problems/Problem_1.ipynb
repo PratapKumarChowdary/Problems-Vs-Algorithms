{
 "cells": [
  {
   "cell_type": "markdown",
   "metadata": {},
   "source": [
    "# Problem 1 - Finding the Square Root of an Integer"
   ]
  },
  {
   "cell_type": "code",
   "execution_count": 1,
   "metadata": {},
   "outputs": [],
   "source": [
    "def sqrt(number):\n",
    "    \"\"\"\n",
    "    Calculate the floored square root of a number\n",
    "\n",
    "    Args:\n",
    "       number(int): Number to find the floored squared root\n",
    "    Returns:\n",
    "       int: Floored Square Root\n",
    "    \"\"\"\n",
    "    if number == 0:\n",
    "        return 0\n",
    "    \n",
    "    if not number:\n",
    "        return None\n",
    "    \n",
    "    # Binary Search to find the floor square root of a number\n",
    "    start = 0    # Starting range of BS\n",
    "    end = number    # Ending range of BS\n",
    "\n",
    "    while start <= end:    \n",
    "\n",
    "        center = (start + end) // 2    # Obtain center by Integer division\n",
    "\n",
    "        mid_square = center * center    # Find square of the center\n",
    "\n",
    "        if mid_square == number:    # If number is a perfect square\n",
    "            return center\n",
    "\n",
    "        # If number is not a perfect square then\n",
    "        # we will just find the square that is just less\n",
    "        # than the number and return the root of that\n",
    "        elif mid_square < number:    # If square < number, then we will search in the right range (center+1 to end)\n",
    "            start = center + 1\n",
    "            floor_sqrt = center    # Root of the perfect square that is just less than the target number\n",
    "\n",
    "        else:    # If square > number, then we will search in the left range (start to center-1)\n",
    "            end = center - 1\n",
    "\n",
    "    return floor_sqrt  "
   ]
  },
  {
   "cell_type": "markdown",
   "metadata": {},
   "source": [
    "# Test Cases"
   ]
  },
  {
   "cell_type": "code",
   "execution_count": 17,
   "metadata": {},
   "outputs": [
    {
     "name": "stdout",
     "output_type": "stream",
     "text": [
      "Pass\n",
      "Pass\n",
      "Pass\n",
      "Pass\n",
      "Pass\n"
     ]
    }
   ],
   "source": [
    "print (\"Pass\" if  (3 == sqrt(9)) else \"Fail\")\n",
    "print (\"Pass\" if  (0 == sqrt(0)) else \"Fail\")\n",
    "print (\"Pass\" if  (4 == sqrt(16)) else \"Fail\")\n",
    "print (\"Pass\" if  (1 == sqrt(1)) else \"Fail\")\n",
    "print (\"Pass\" if  (5 == sqrt(27)) else \"Fail\")"
   ]
  },
  {
   "cell_type": "markdown",
   "metadata": {},
   "source": [
    "# Edge Test Cases"
   ]
  },
  {
   "cell_type": "code",
   "execution_count": 22,
   "metadata": {},
   "outputs": [
    {
     "name": "stdout",
     "output_type": "stream",
     "text": [
      "Pass\n",
      "Pass\n",
      "Pass\n"
     ]
    }
   ],
   "source": [
    "# \"None\" as Input\n",
    "print (\"Pass\" if  (None == sqrt(None)) else \"Fail\")\n",
    "\n",
    "# Edge case\n",
    "print (\"Pass\" if  (0 == sqrt(0)) else \"Fail\")\n",
    "\n",
    "# Large Input\n",
    "print (\"Pass\" if  (1000 == sqrt(1000000)) else \"Fail\")"
   ]
  }
 ],
 "metadata": {
  "kernelspec": {
   "display_name": "Python 3",
   "language": "python",
   "name": "python3"
  },
  "language_info": {
   "codemirror_mode": {
    "name": "ipython",
    "version": 3
   },
   "file_extension": ".py",
   "mimetype": "text/x-python",
   "name": "python",
   "nbconvert_exporter": "python",
   "pygments_lexer": "ipython3",
   "version": "3.7.6"
  }
 },
 "nbformat": 4,
 "nbformat_minor": 2
}
