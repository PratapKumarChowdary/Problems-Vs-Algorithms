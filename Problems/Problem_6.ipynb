{
 "cells": [
  {
   "cell_type": "markdown",
   "metadata": {},
   "source": [
    "# Problem 6 - Max and Min in a Unsorted Array"
   ]
  },
  {
   "cell_type": "code",
   "execution_count": 10,
   "metadata": {},
   "outputs": [],
   "source": [
    "def get_min_max(ints):\n",
    "    \"\"\"\n",
    "    Return a tuple(min, max) out of list of unsorted integers.\n",
    "\n",
    "    Args:\n",
    "       ints(list): list of integers containing one or more integers\n",
    "    \"\"\"\n",
    "    \n",
    "    # If list has no elements return None\n",
    "    if not ints:\n",
    "        return None\n",
    "\n",
    "    # If the size of the list is 1 than return the present element as min and max\n",
    "    if len(ints) == 1:\n",
    "        return (ints[0], ints[0])\n",
    "    \n",
    "    # Initially assign first element as a min and max element\n",
    "    minimum = ints[0]    \n",
    "    maximum = ints[0]\n",
    "    \n",
    "    for num in ints:\n",
    "        # Compare the assigned min and max with the elements in the given list\n",
    "        if minimum > num:    # If the number is minimum than the min value than, swap the element with the min\n",
    "            minimum = num\n",
    "        if maximum < num:    # If the number is maximum than the max value than, swap the element with the min\n",
    "            maximum = num\n",
    "            \n",
    "    return (minimum, maximum)"
   ]
  },
  {
   "cell_type": "markdown",
   "metadata": {},
   "source": [
    "# Test Cases"
   ]
  },
  {
   "cell_type": "code",
   "execution_count": 11,
   "metadata": {},
   "outputs": [
    {
     "name": "stdout",
     "output_type": "stream",
     "text": [
      "Pass\n",
      "Pass\n",
      "Pass\n"
     ]
    }
   ],
   "source": [
    "## Example Test Case of Ten Integers\n",
    "import random\n",
    "\n",
    "l = [i for i in range(0, 10)]  # a list containing 0 - 9\n",
    "random.shuffle(l)\n",
    "\n",
    "print (\"Pass\" if ((0, 9) == get_min_max(l)) else \"Fail\")\n",
    "print (\"Pass\" if ((43, 1122) == get_min_max([233, 535, 43, 1122, 55])) else \"Fail\")\n",
    "print (\"Pass\" if ((1, 1) == get_min_max([1, 1])) else \"Fail\")"
   ]
  },
  {
   "cell_type": "markdown",
   "metadata": {},
   "source": [
    "# Edge Test Cases"
   ]
  },
  {
   "cell_type": "code",
   "execution_count": 12,
   "metadata": {},
   "outputs": [
    {
     "name": "stdout",
     "output_type": "stream",
     "text": [
      "Pass\n"
     ]
    }
   ],
   "source": [
    "# List with only element\n",
    "print (\"Pass\" if ((22,22) == get_min_max([22])) else \"Fail\")"
   ]
  },
  {
   "cell_type": "code",
   "execution_count": 13,
   "metadata": {},
   "outputs": [
    {
     "name": "stdout",
     "output_type": "stream",
     "text": [
      "Pass\n"
     ]
    }
   ],
   "source": [
    "# Empty Input\n",
    "print (\"Pass\" if (None == get_min_max([])) else \"Fail\")"
   ]
  },
  {
   "cell_type": "code",
   "execution_count": 14,
   "metadata": {},
   "outputs": [
    {
     "name": "stdout",
     "output_type": "stream",
     "text": [
      "Pass\n"
     ]
    }
   ],
   "source": [
    "# Null Input\n",
    "print (\"Pass\" if (None == get_min_max(None)) else \"Fail\")"
   ]
  },
  {
   "cell_type": "code",
   "execution_count": 15,
   "metadata": {},
   "outputs": [
    {
     "name": "stdout",
     "output_type": "stream",
     "text": [
      "Pass\n"
     ]
    }
   ],
   "source": [
    "# Large Input\n",
    "input_list = [x for x in range(55, 5556)]\n",
    "\n",
    "print (\"Pass\" if ((55, 5555) == get_min_max(input_list)) else \"Fail\")"
   ]
  }
 ],
 "metadata": {
  "kernelspec": {
   "display_name": "Python 3",
   "language": "python",
   "name": "python3"
  },
  "language_info": {
   "codemirror_mode": {
    "name": "ipython",
    "version": 3
   },
   "file_extension": ".py",
   "mimetype": "text/x-python",
   "name": "python",
   "nbconvert_exporter": "python",
   "pygments_lexer": "ipython3",
   "version": "3.7.6"
  }
 },
 "nbformat": 4,
 "nbformat_minor": 2
}
