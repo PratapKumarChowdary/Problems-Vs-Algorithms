{
 "cells": [
  {
   "cell_type": "markdown",
   "metadata": {},
   "source": [
    "# Problem 3 - Rearrange Array Elements"
   ]
  },
  {
   "cell_type": "code",
   "execution_count": 38,
   "metadata": {},
   "outputs": [],
   "source": [
    "def rearrange_digits(input_list):\n",
    "    \"\"\"\n",
    "    Rearrange Array Elements so as to form two number such that their sum is maximum.\n",
    "\n",
    "    Args:\n",
    "       input_list(list): Input List\n",
    "    Returns:\n",
    "       (int),(int): Two maximum sums\n",
    "    \"\"\"\n",
    "    \n",
    "    if not input_list:\n",
    "        return None\n",
    "    \n",
    "    first_max_sum = \"\"\n",
    "    second_max_sum = \"\"\n",
    "    \n",
    "    # Sort the elements in descending order\n",
    "    desc_sort = merge_sort(input_list)\n",
    "    \n",
    "    # The evenly distributed elements in the list are the first max sum of the given list\n",
    "    # and the rest of the digits forms second max sum of the given list\n",
    "    # for e.g [5, 4, 3, 2, 1] then 5,3,1 are evenly distributed which forms the first max sum \n",
    "    # and the remaining digits 4,2 forms the second max sum\n",
    "    for index, el in enumerate(desc_sort):\n",
    "        if index % 2 == 0:\n",
    "            first_max_sum += str(el)\n",
    "        else:\n",
    "            second_max_sum += str(el)\n",
    "        \n",
    "    return int(first_max_sum), int(second_max_sum)\n",
    "    \n",
    "\n",
    "def merge_sort(input_list):\n",
    "        \n",
    "    if len(input_list) <= 1:\n",
    "        return input_list\n",
    "    \n",
    "    mid_index = len(input_list) // 2\n",
    "    \n",
    "    left_half = input_list[:mid_index]\n",
    "    right_half = input_list[mid_index:]\n",
    "    \n",
    "    left_half = merge_sort(left_half)\n",
    "    right_half = merge_sort(right_half)\n",
    "    \n",
    "    return merge(left_half, right_half)\n",
    "\n",
    "\n",
    "def merge(left_half, right_half):\n",
    "    \n",
    "    merged = []\n",
    "    left_index = 0\n",
    "    right_index = 0\n",
    "    \n",
    "    while left_index < len(left_half) and right_index < len(right_half):\n",
    "        \n",
    "        if left_half[left_index] < right_half[right_index]:\n",
    "            merged.append(right_half[right_index])\n",
    "            right_index += 1\n",
    "        else:\n",
    "            merged.append(left_half[left_index])\n",
    "            left_index += 1\n",
    "        \n",
    "    merged += left_half[left_index:]\n",
    "    merged += right_half[right_index:]\n",
    "    \n",
    "    return merged"
   ]
  },
  {
   "cell_type": "markdown",
   "metadata": {},
   "source": [
    "# Test Cases"
   ]
  },
  {
   "cell_type": "code",
   "execution_count": 39,
   "metadata": {},
   "outputs": [
    {
     "name": "stdout",
     "output_type": "stream",
     "text": [
      "Pass\n",
      "Pass\n"
     ]
    }
   ],
   "source": [
    "def test_function(test_case):\n",
    "    output = rearrange_digits(test_case[0])\n",
    "    solution = test_case[1]\n",
    "    \n",
    "    if sum(output) == sum(solution):\n",
    "        print(\"Pass\")\n",
    "    else:\n",
    "        print(\"Fail\")\n",
    "\n",
    "test_function([[1, 2, 3, 4, 5], [542, 31]])\n",
    "test_function([[4, 6, 2, 5, 9, 8], [964, 852]])"
   ]
  },
  {
   "cell_type": "markdown",
   "metadata": {},
   "source": [
    "# Edge Test Cases"
   ]
  },
  {
   "cell_type": "code",
   "execution_count": 40,
   "metadata": {},
   "outputs": [
    {
     "name": "stdout",
     "output_type": "stream",
     "text": [
      "None\n"
     ]
    }
   ],
   "source": [
    "# Empty Input\n",
    "print(rearrange_digits([]))"
   ]
  },
  {
   "cell_type": "code",
   "execution_count": 41,
   "metadata": {},
   "outputs": [
    {
     "name": "stdout",
     "output_type": "stream",
     "text": [
      "None\n"
     ]
    }
   ],
   "source": [
    "# Null Input\n",
    "print(rearrange_digits(None))"
   ]
  },
  {
   "cell_type": "code",
   "execution_count": 36,
   "metadata": {},
   "outputs": [
    {
     "name": "stdout",
     "output_type": "stream",
     "text": [
      "First max sum :-\n",
      "99999799599399198998798598398197997797597397196996796596396195995795595395194994794594394193993793593393192992792592392191991791591391190990790590390189989789589389188988788588388187987787587387186986786586386185985785585385184984784584384183983783583383182982782582382181981781581381180980780580380179979779579379178978778578378177977777577377176976776576376175975775575375174974774574374173973773573373172972772572372171971771571371170970770570370169969769569369168968768568368167967767567367166966766566366165965765565365164964764564364163963763563363162962762562362161961761561361160960760560360159959759559359158958758558358157957757557357156956756556356155955755555355154954754554354153953753553353152952752552352151951751551351150950750550350149949749549349148948748548348147947747547347146946746546346145945745545345144944744544344143943743543343142942742542342141941741541341140940740540340139939739539339138938738538338137937737537337136936736536336135935735535335134934734534334133933733533333132932732532332131931731531331130930730530330129929729529329128928728528328127927727527327126926726526326125925725525325124924724524324123923723523323122922722522322121921721521321120920720520320119919719519319118918718518318117917717517317116916716516316115915715515315114914714514314113913713513313112912712512312111911711511311110910710510310199979593918987858381797775737169676563615957555351494745434139373533312927252321191715131197531\n",
      "\n",
      "Second max sum :-\n",
      "99899699499299098898698498298097897697497297096896696496296095895695495295094894694494294093893693493293092892692492292091891691491291090890690490290089889689489289088888688488288087887687487287086886686486286085885685485285084884684484284083883683483283082882682482282081881681481281080880680480280079879679479279078878678478278077877677477277076876676476276075875675475275074874674474274073873673473273072872672472272071871671471271070870670470270069869669469269068868668468268067867667467267066866666466266065865665465265064864664464264063863663463263062862662462262061861661461261060860660460260059859659459259058858658458258057857657457257056856656456256055855655455255054854654454254053853653453253052852652452252051851651451251050850650450250049849649449249048848648448248047847647447247046846646446246045845645445245044844644444244043843643443243042842642442242041841641441241040840640440240039839639439239038838638438238037837637437237036836636436236035835635435235034834634434234033833633433233032832632432232031831631431231030830630430230029829629429229028828628428228027827627427227026826626426226025825625425225024824624424224023823623423223022822622422222021821621421221020820620420220019819619419219018818618418218017817617417217016816616416216015815615415215014814614414214013813613413213012812612412212011811611411211010810610410210098969492908886848280787674727068666462605856545250484644424038363432302826242220181614121086420\n"
     ]
    }
   ],
   "source": [
    "# Large Input\n",
    "import random\n",
    "\n",
    "l = [i for i in range(0, 1000)]    # a list containing 0 - 999\n",
    "random.shuffle(l)\n",
    "\n",
    "print(\"First max sum :-\")\n",
    "print(rearrange_digits(l)[0])\n",
    "print()\n",
    "print(\"Second max sum :-\")\n",
    "print(rearrange_digits(l)[1])"
   ]
  }
 ],
 "metadata": {
  "kernelspec": {
   "display_name": "Python 3",
   "language": "python",
   "name": "python3"
  },
  "language_info": {
   "codemirror_mode": {
    "name": "ipython",
    "version": 3
   },
   "file_extension": ".py",
   "mimetype": "text/x-python",
   "name": "python",
   "nbconvert_exporter": "python",
   "pygments_lexer": "ipython3",
   "version": "3.7.6"
  }
 },
 "nbformat": 4,
 "nbformat_minor": 2
}
